{
 "cells": [
  {
   "cell_type": "code",
   "execution_count": null,
   "id": "b97f49c4-d397-430a-a41b-6063edeeeccb",
   "metadata": {},
   "outputs": [],
   "source": [
    "from osgeo import gdal,osr\n",
    "import os\n",
    "import numpy as np\n",
    "import glob\n",
    "from sklearn import preprocessing\n",
    "import matplotlib.pyplot as plt\n",
    "import tensorflow as tf\n",
    "import pandas as pd"
   ]
  },
  {
   "cell_type": "code",
   "execution_count": null,
   "id": "2c5673ba-cf63-44e1-876f-c60244393b80",
   "metadata": {},
   "outputs": [],
   "source": [
    "file_directory = r\"\"\n",
    "year = 2000\n",
    "\n",
    "Albedo_list = np.array(sorted(glob.glob(file_directory + \"//Albedo//\" + str(year) + \"\\*.tiff\")))\n",
    "LAI_list = np.array(sorted(glob.glob(file_directory + \"//LAI//\" + str(year) + \"\\*.tif\")))\n",
    "r_list = np.array(sorted(glob.glob(file_directory + \"//r//\" + str(year) + \"\\*.tiff\")))\n",
    "sp_list = np.array(sorted(glob.glob(file_directory + \"//sp//\" + str(year) + \"\\*.tiff\")))\n",
    "# SSR_list = np.array(sorted(glob.glob(file_directory + \"//SSR//\" + str(year) + \"\\*.tif\")))\n",
    "strd_list = np.array(sorted(glob.glob(file_directory + \"//strd//\" + str(year) + \"\\*.tiff\")))\n",
    "ssrd_list = np.array(sorted(glob.glob(file_directory + \"//ssrd//\" + str(year) + \"\\*.tiff\")))\n",
    "t2m_list = np.array(sorted(glob.glob(file_directory + \"//t2m//\" + str(year) + \"\\*.tiff\")))\n",
    "ws_list = np.array(sorted(glob.glob(file_directory + \"//ws//\" + str(year) + \"\\*.tif\")))\n",
    "\n",
    "dem = r\"\"\n",
    "landcover = r\"\"\n",
    "landcover_data = gdal.Open(landcover).ReadAsArray().reshape(-1)\n",
    "\n",
    "ssrd_zone = 2\n",
    "step = 1000\n",
    "\n",
    "file_directory = r\"\"\n",
    "LEc_list = np.array(sorted(glob.glob(file_directory + \"//LE_C//\" + \"\\*.tif\")))\n",
    "LEs_list = np.array(sorted(glob.glob(file_directory + \"//LE_S//\" + \"\\*.tif\")))\n"
   ]
  },
  {
   "cell_type": "code",
   "execution_count": null,
   "id": "d69962da-6f00-4b05-895a-1fa5bb494a1a",
   "metadata": {},
   "outputs": [],
   "source": [
    "    Albedo_total = np.array([], dtype = 'float32')\n",
    "    LAI_total = np.array([], dtype = 'float32')\n",
    "    r_total = np.array([], dtype = 'float32')\n",
    "    sp_total = np.array([], dtype = 'float32')\n",
    "    SSR_total = np.array([], dtype = 'float32')\n",
    "    strd_total = np.array([], dtype = 'float32')\n",
    "    ssrd_total = np.array([], dtype = 'float32')\n",
    "    t2m_total = np.array([], dtype = 'float32')\n",
    "    ws_total = np.array([], dtype = 'float32')\n",
    "    dem_total = np.array([], dtype = 'float32')\n",
    "    landcover_total = np.array([], dtype = 'float32')\n",
    "    LEc_total = np.array([], dtype = 'float32')\n",
    "    LEs_total = np.array([], dtype = 'float32')"
   ]
  },
  {
   "cell_type": "code",
   "execution_count": null,
   "id": "8121bbd8-272f-4a52-b82e-e431d879b79e",
   "metadata": {
    "tags": []
   },
   "outputs": [],
   "source": [
    "for file_i in range(0,365):\n",
    "    print(file_i)\n",
    "    Albedo_data = gdal.Open(Albedo_list[file_i]).ReadAsArray().reshape(-1)\n",
    "    LAI_data = gdal.Open(LAI_list[file_i]).ReadAsArray().reshape(-1)\n",
    "    r_data = gdal.Open(r_list[file_i]).ReadAsArray().reshape(-1)\n",
    "    sp_data = gdal.Open(sp_list[file_i]).ReadAsArray().reshape(-1)\n",
    "    strd_data = gdal.Open(strd_list[file_i]).ReadAsArray().reshape(-1)\n",
    "    ssrd_data = gdal.Open(ssrd_list[file_i]).ReadAsArray().reshape(-1)\n",
    "    t2m_data = gdal.Open(t2m_list[file_i]).ReadAsArray().reshape(-1)\n",
    "    ws_data = gdal.Open(ws_list[file_i]).ReadAsArray().reshape(-1)\n",
    "    dem_data = gdal.Open(dem).ReadAsArray().reshape(-1)\n",
    "    \n",
    "\n",
    "    LEc_data = gdal.Open(LEc_list[file_i]).ReadAsArray().reshape(-1)\n",
    "    LEs_data = gdal.Open(LEs_list[file_i]).ReadAsArray().reshape(-1)\n",
    "\n",
    "    mask = np.ones(Albedo_data.shape).astype(bool)\n",
    "    mask &= LEc_data > 0\n",
    "    mask &= LEc_data < 15\n",
    "    mask &= LEs_data > 0\n",
    "    mask &= LEs_data < 15\n",
    "    mask &= dem_data < 9000\n",
    "    \n",
    "    if ssrd_zone == 1:\n",
    "        mask &= ssrd_data <= 150\n",
    "    elif ssrd_zone == 2:\n",
    "        mask &= ssrd_data > 150\n",
    "\n",
    "    Albedo_total = np.append(Albedo_total, Albedo_data[mask][0: len(Albedo_data[mask]): step])\n",
    "    LAI_total = np.append(LAI_total, LAI_data[mask][0: len(LAI_data[mask]): step])\n",
    "    r_total = np.append(r_total, r_data[mask][0: len(r_data[mask]): step])\n",
    "    sp_total = np.append(sp_total, sp_data[mask][0: len(sp_data[mask]): step])\n",
    "    strd_total = np.append(strd_total, strd_data[mask][0: len(strd_data[mask]): step])\n",
    "    ssrd_total = np.append(ssrd_total, ssrd_data[mask][0: len(ssrd_data[mask]): step])\n",
    "    t2m_total = np.append(t2m_total, t2m_data[mask][0: len(t2m_data[mask]): step])\n",
    "    ws_total = np.append(ws_total, ws_data[mask][0: len(ws_data[mask]): step])\n",
    "    dem_total = np.append(dem_total, dem_data[mask][0: len(dem_data[mask]): step])\n",
    "    landcover_total = np.append(landcover_total, landcover_data[mask][0: len(landcover_data[mask]): step])\n",
    "    LEc_total = np.append(LEc_total, LEc_data[mask][0: len(LEc_data[mask]): step])\n",
    "    LEs_total = np.append(LEs_total, LEs_data[mask][0: len(LEs_data[mask]): step])\n",
    "Albedo_data = None\n",
    "LAI_data = None\n",
    "r_data = None\n",
    "sp_data = None\n",
    "SSR_data = None\n",
    "strd_data = None\n",
    "ssrd_data = None\n",
    "t2m_data = None\n",
    "ws_data = None\n",
    "dem_data = None\n",
    "LEc_data = None\n",
    "LEs_data = None"
   ]
  },
  {
   "cell_type": "code",
   "execution_count": null,
   "id": "344daa34-dbe7-4683-b199-3d72dac54352",
   "metadata": {},
   "outputs": [],
   "source": [
    "ALL = np.stack((Albedo_total, LAI_total, r_total, sp_total, ssrd_total, strd_total, t2m_total,\n",
    "                  ws_total, dem_total, landcover_total, LEc_total, LEs_total), 1)\n",
    "np.random.shuffle(ALL)"
   ]
  },
  {
   "cell_type": "code",
   "execution_count": null,
   "id": "055747e5-a664-4156-a823-d443268166ce",
   "metadata": {},
   "outputs": [],
   "source": [
    "ALL_DataFrame=pd.DataFrame(ALL, columns=['Albedo', 'LAI', 'r', 'sp', 'ssrd', 'strd',\n",
    "                             't2m', 'ws', 'dem', 'landcover', \"LEc\", \"LEs\"])\n",
    "ALL_DataFrame.tail()"
   ]
  },
  {
   "cell_type": "code",
   "execution_count": null,
   "id": "ffb263a9-1bf6-44c7-a59c-45d944f7f9da",
   "metadata": {},
   "outputs": [],
   "source": [
    "ALL_DataFrame.to_csv(r\"\")"
   ]
  }
 ],
 "metadata": {
  "kernelspec": {
   "display_name": "Python 3 (ipykernel)",
   "language": "python",
   "name": "python3"
  },
  "language_info": {
   "codemirror_mode": {
    "name": "ipython",
    "version": 3
   },
   "file_extension": ".py",
   "mimetype": "text/x-python",
   "name": "python",
   "nbconvert_exporter": "python",
   "pygments_lexer": "ipython3",
   "version": "3.12.4"
  }
 },
 "nbformat": 4,
 "nbformat_minor": 5
}
