{
 "cells": [
  {
   "cell_type": "code",
   "execution_count": null,
   "id": "b5838998-6cf7-45db-af86-b63d12625ca7",
   "metadata": {},
   "outputs": [],
   "source": [
    "import numpy as np\n",
    "import pandas as pd\n",
    "from sklearn import preprocessing\n",
    "import tensorflow as tf\n",
    "import matplotlib.pyplot as plt"
   ]
  },
  {
   "cell_type": "code",
   "execution_count": null,
   "id": "f5e3dbfb-8949-467c-bee3-e80ccca23da6",
   "metadata": {},
   "outputs": [],
   "source": [
    "data = pd.read_csv(r\"*.csv\", dtype = np.float32)"
   ]
  },
  {
   "cell_type": "code",
   "execution_count": null,
   "id": "e8b8a66d-cff6-4fad-ba22-16bb2a75e276",
   "metadata": {},
   "outputs": [],
   "source": [
    "X = data.iloc[:, 1:11]\n",
    "Y = data.iloc[:, 11:13]"
   ]
  },
  {
   "cell_type": "code",
   "execution_count": null,
   "id": "81d792f9-8267-483f-9ab5-c41e09730590",
   "metadata": {},
   "outputs": [],
   "source": [
    "train_stats = Y.describe()\n",
    "train_stats = train_stats.transpose()\n",
    "train_stats"
   ]
  },
  {
   "cell_type": "code",
   "execution_count": null,
   "id": "1a5da123-04f2-4c28-ba57-0ac3be57d0d4",
   "metadata": {
    "tags": []
   },
   "outputs": [],
   "source": [
    "X_normal = preprocessing.scale(X, axis=0)"
   ]
  },
  {
   "cell_type": "code",
   "execution_count": null,
   "id": "8cee1cb4-a2ba-4528-b002-9c6259ce3531",
   "metadata": {},
   "outputs": [],
   "source": [
    "X_train, X_test, Y_train, Y_test = train_test_split(X_normal, Y.values, train_size = 0.8)"
   ]
  },
  {
   "cell_type": "code",
   "execution_count": null,
   "id": "d2e908d4-c6c3-4cd7-a018-7db2fb648990",
   "metadata": {},
   "outputs": [],
   "source": [
    "Y = None\n",
    "X = None"
   ]
  },
  {
   "cell_type": "code",
   "execution_count": null,
   "id": "a3b67f84-2387-4e7a-887f-588e8f2b9a08",
   "metadata": {},
   "outputs": [],
   "source": [
    "import tensorflow.keras.backend as K\n",
    "def r2(y_true, y_pred):\n",
    "    a = K.square(y_pred - y_true)\n",
    "    b = K.sum(a)\n",
    "    c = K.mean(y_true)\n",
    "    d = K.square(y_true - c)\n",
    "    e = K.sum(d)\n",
    "    f = 1 - b / e\n",
    "    return f"
   ]
  },
  {
   "cell_type": "code",
   "execution_count": null,
   "id": "4b56bb17-68f3-4337-a3d3-1490679b66d1",
   "metadata": {},
   "outputs": [],
   "source": [
    "model = tf.keras.Sequential()\n",
    "model.add(tf.keras.layers.Dense(128, activation=\"relu\", input_shape=(10,)))\n",
    "model.add(tf.keras.layers.Dense(128, activation=\"relu\"))\n",
    "model.add(tf.keras.layers.Dense(2, activation=\"linear\"))\n",
    "model.summary()"
   ]
  },
  {
   "cell_type": "code",
   "execution_count": null,
   "id": "d8a94091-b553-40cb-bc77-bdc564a4653a",
   "metadata": {
    "tags": []
   },
   "outputs": [],
   "source": [
    "optimizer = tf.keras.optimizers.Adam(learning_rate=0.01, beta_1=0.9, beta_2=0.99)\n",
    "model.compile(loss='mse', optimizer=optimizer, metrics=['RootMeanSquaredError', r2])\n",
    "history = model.fit(X_train, Y_train, batch_size=512, epochs=100, \n",
    "                    validation_split=0.2, validation_freq=1)"
   ]
  },
  {
   "cell_type": "code",
   "execution_count": null,
   "id": "2ae6062a-a596-495d-a7f0-da80a2e12cfd",
   "metadata": {},
   "outputs": [],
   "source": [
    "history=history.history"
   ]
  },
  {
   "cell_type": "code",
   "execution_count": null,
   "id": "4614c10e-4b71-4588-8008-22b23e6b4ff9",
   "metadata": {},
   "outputs": [],
   "source": [
    "y_loss = history['loss']\n",
    "y_rmse = history['r2']\n",
    "y_v_loss = history['val_loss']\n",
    "y_v_rmse = history['val_r2']\n",
    "x_epoch = [i for i in range(1,len(y_loss)+1)]"
   ]
  },
  {
   "cell_type": "code",
   "execution_count": null,
   "id": "f8fe2581-8bd6-4698-bda8-d2cf2d634fb7",
   "metadata": {},
   "outputs": [],
   "source": [
    "plt.plot(x_epoch, y_loss,color='red',linewidth=1.0,linestyle='-',label='training')\n",
    "plt.plot(x_epoch, y_v_loss,color='blue',linewidth=1.0,linestyle='-',label='val')\n",
    "plt.title(\"Tendency of Loss\")\n",
    "plt.xlabel(\"Number of Training\")\n",
    "plt.ylabel(\"Loss\")\n",
    "plt.legend()"
   ]
  },
  {
   "cell_type": "code",
   "execution_count": null,
   "id": "600a0e36-e9fa-4539-876a-901b9d24a152",
   "metadata": {},
   "outputs": [],
   "source": [
    "plt.plot(x_epoch,y_rmse,color='red',linewidth=1.0,linestyle='-',label='training')\n",
    "plt.plot(x_epoch,y_v_rmse,color='blue',linewidth=1.0,linestyle='-',label='val')\n",
    "plt.title(\"Tendency of R2\")\n",
    "plt.xlabel(\"Number of Training\")\n",
    "plt.ylabel(\"R2\")\n",
    "plt.legend()"
   ]
  },
  {
   "cell_type": "code",
   "execution_count": null,
   "id": "f7e7bb24-4e28-4521-b72a-b6a2acbcb5f9",
   "metadata": {},
   "outputs": [],
   "source": [
    "pred_X = model.predict(X_test)"
   ]
  },
  {
   "cell_type": "code",
   "execution_count": null,
   "id": "41cdb90c-e0b9-438b-8e54-6ebeba3cca12",
   "metadata": {},
   "outputs": [],
   "source": [
    "r2 = r2_score(y_true=Y_test, y_pred=pred_X)\n",
    "mse = mean_squared_error(y_true=Y_test, y_pred=pred_X)\n",
    "mape = mean_absolute_percentage_error(y_true=Y_test, y_pred=pred_X)\n",
    "\n",
    "print('r2 = ', r2, '\\nmse = ', mse, '\\nmape = ', mape)"
   ]
  },
  {
   "cell_type": "code",
   "execution_count": null,
   "id": "340086e9-75d3-4e1f-b3ec-d89c8066340d",
   "metadata": {},
   "outputs": [],
   "source": [
    "r2_c = r2_score(y_true=Y_test[:, 0], y_pred=pred_X[:, 0])\n",
    "mse_c = mean_squared_error(y_true=Y_test[:, 0], y_pred=pred_X[:, 0])\n",
    "mape_c = mean_absolute_percentage_error(y_true=Y_test[:, 0], y_pred=pred_X[:, 0])\n",
    "\n",
    "r2_s = r2_score(y_true=Y_test[:, 1], y_pred=pred_X[:, 1])\n",
    "mse_s = mean_squared_error(y_true=Y_test[:, 1], y_pred=pred_X[:, 1])\n",
    "mape_s = mean_absolute_percentage_error(y_true=Y_test[:, 1], y_pred=pred_X[:, 1])\n",
    "\n",
    "r2_a = r2_score(y_true=Y_test[:, 0] + Y_test[:, 1], y_pred=pred_X[:, 0] + pred_X[:, 1])\n",
    "mse_a = mean_squared_error(y_true=Y_test[:, 0] + Y_test[:, 1], y_pred=pred_X[:, 0] + pred_X[:, 1])\n",
    "mape_a = mean_absolute_percentage_error(y_true=Y_test[:, 0] + Y_test[:, 1], y_pred=pred_X[:, 0] + pred_X[:, 1])\n",
    "\n",
    "print('LEc\\nr2 = ', r2_c, '\\nmse = ', mse_c, '\\nmape = ', mape_c)\n",
    "print('LEs\\nr2 = ', r2_s, '\\nmse = ', mse_s, '\\nmape = ', mape_s)\n",
    "print('LE\\nr2 = ', r2_a, '\\nmse = ', mse_a, '\\nmape = ', mape_a)\n"
   ]
  },
  {
   "cell_type": "code",
   "execution_count": null,
   "id": "c3525ceb-0bff-4a0c-8f95-5438a1f18f0b",
   "metadata": {},
   "outputs": [],
   "source": [
    "model.save(r\"*.h5\")"
   ]
  }
 ],
 "metadata": {
  "kernelspec": {
   "display_name": "Python 3 (ipykernel)",
   "language": "python",
   "name": "python3"
  },
  "language_info": {
   "codemirror_mode": {
    "name": "ipython",
    "version": 3
   },
   "file_extension": ".py",
   "mimetype": "text/x-python",
   "name": "python",
   "nbconvert_exporter": "python",
   "pygments_lexer": "ipython3",
   "version": "3.12.4"
  }
 },
 "nbformat": 4,
 "nbformat_minor": 5
}
